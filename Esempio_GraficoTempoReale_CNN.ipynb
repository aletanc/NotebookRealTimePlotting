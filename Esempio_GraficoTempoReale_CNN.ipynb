{
  "nbformat": 4,
  "nbformat_minor": 0,
  "metadata": {
    "colab": {
      "provenance": [],
      "collapsed_sections": [
        "lZ2iPVv1sFzJ",
        "peO2br2LQTtB"
      ]
    },
    "kernelspec": {
      "name": "python3",
      "display_name": "Python 3"
    },
    "language_info": {
      "name": "python"
    },
    "accelerator": "GPU",
    "gpuClass": "standard"
  },
  "cells": [
    {
      "cell_type": "markdown",
      "source": [
        "# ROADMAP\n",
        " - funzioni per scrivere i log senza dipendenze specifiche del pacchetto mio"
      ],
      "metadata": {
        "id": "WOT_QHirC4nJ"
      }
    },
    {
      "cell_type": "markdown",
      "source": [
        "# Importa modulo per grafici training in tempo reale"
      ],
      "metadata": {
        "id": "tbtL4ORM70ih"
      }
    },
    {
      "cell_type": "code",
      "source": [
        "import requests\n",
        "# If you are using GitHub, make sure you get the \"Raw\" version of the code\n",
        "url = 'https://raw.githubusercontent.com/atancredi/NotebookRealTimePlotting/master/Core.py'\n",
        "r = requests.get(url)\n",
        "\n",
        "# make sure your filename is the same as how you want to import \n",
        "with open('Core.py', 'w') as f:\n",
        "    f.write(r.text)\n",
        "\n",
        "# now we can import\n",
        "import Core as realtimegraph"
      ],
      "metadata": {
        "id": "s0PgY2er75rw"
      },
      "execution_count": 1,
      "outputs": []
    },
    {
      "cell_type": "markdown",
      "source": [
        "# Configurazione"
      ],
      "metadata": {
        "id": "lZ2iPVv1sFzJ"
      }
    },
    {
      "cell_type": "code",
      "source": [
        "pip install torchmetrics"
      ],
      "metadata": {
        "colab": {
          "base_uri": "https://localhost:8080/"
        },
        "id": "QyP_rZsvGTia",
        "outputId": "71a56ab9-3772-4cce-a74c-18812662aaa3"
      },
      "execution_count": 3,
      "outputs": [
        {
          "output_type": "stream",
          "name": "stdout",
          "text": [
            "Looking in indexes: https://pypi.org/simple, https://us-python.pkg.dev/colab-wheels/public/simple/\n",
            "Collecting torchmetrics\n",
            "  Downloading torchmetrics-0.9.3-py3-none-any.whl (419 kB)\n",
            "\u001b[K     |████████████████████████████████| 419 kB 4.5 MB/s \n",
            "\u001b[?25hRequirement already satisfied: torch>=1.3.1 in /usr/local/lib/python3.7/dist-packages (from torchmetrics) (1.12.1+cu113)\n",
            "Requirement already satisfied: numpy>=1.17.2 in /usr/local/lib/python3.7/dist-packages (from torchmetrics) (1.21.6)\n",
            "Requirement already satisfied: packaging in /usr/local/lib/python3.7/dist-packages (from torchmetrics) (21.3)\n",
            "Requirement already satisfied: typing-extensions in /usr/local/lib/python3.7/dist-packages (from torchmetrics) (4.1.1)\n",
            "Requirement already satisfied: pyparsing!=3.0.5,>=2.0.2 in /usr/local/lib/python3.7/dist-packages (from packaging->torchmetrics) (3.0.9)\n",
            "Installing collected packages: torchmetrics\n",
            "Successfully installed torchmetrics-0.9.3\n"
          ]
        }
      ]
    },
    {
      "cell_type": "code",
      "execution_count": 4,
      "metadata": {
        "id": "WpzPeQrdFhjN"
      },
      "outputs": [],
      "source": [
        "#libraries\n",
        "import numpy as np\n",
        "import matplotlib.pyplot as plt\n",
        "import pandas as pd\n",
        "import torch\n",
        "import torchmetrics\n",
        "from torchmetrics import AUROC\n",
        "from torch import nn\n",
        "import torch.nn.functional as F\n",
        "from sklearn.model_selection import train_test_split\n",
        "import h5py\n",
        "from torch.utils.data.dataloader import DataLoader\n",
        "from torch.utils.data.dataset import TensorDataset\n",
        "import matplotlib.pyplot as plt\n",
        "from torch import nn\n",
        "import torch.nn.functional as F\n",
        "from torchsummary import summary"
      ]
    },
    {
      "cell_type": "code",
      "source": [
        "# Device recognition - se posso sposto tutto su GPU\n",
        "def DeviceRecognition():\n",
        "  if torch.cuda.is_available():\n",
        "    print('Numero di GPU disponibili: ',torch.cuda.device_count())\n",
        "    for i in range(0,torch.cuda.device_count()):\n",
        "      print(torch.cuda.get_device_name(0))\n",
        "  device = ('cuda' if torch.cuda.is_available() else 'cpu')\n",
        "  print(f\"Computation device: {device}\\n\")\n",
        "  return device\n",
        "\n",
        "device = DeviceRecognition()"
      ],
      "metadata": {
        "colab": {
          "base_uri": "https://localhost:8080/"
        },
        "id": "K8pQ_vIzF1BR",
        "outputId": "2c02d5e6-bf52-466c-9e2d-74c025d2f6dc"
      },
      "execution_count": 5,
      "outputs": [
        {
          "output_type": "stream",
          "name": "stdout",
          "text": [
            "Numero di GPU disponibili:  1\n",
            "Tesla T4\n",
            "Computation device: cuda\n",
            "\n"
          ]
        }
      ]
    },
    {
      "cell_type": "code",
      "source": [
        "from google.colab import drive\n",
        "drive.mount('/content/drive')"
      ],
      "metadata": {
        "id": "jSLrpnKPGGNq",
        "colab": {
          "base_uri": "https://localhost:8080/"
        },
        "outputId": "f3b1c567-3a66-4c10-db50-7400ec6fad44"
      },
      "execution_count": 6,
      "outputs": [
        {
          "output_type": "stream",
          "name": "stdout",
          "text": [
            "Mounted at /content/drive\n"
          ]
        }
      ]
    },
    {
      "cell_type": "code",
      "source": [
        "# Definiamo la loss function, e la metricae per monitorare il training\n",
        "\n",
        "\n",
        "# loss function \n",
        "loss_func = nn.CrossEntropyLoss() \n",
        "\n",
        "# metric accuracy (in questo caso dobbiamo scrivercela da noi perché non è disponibile builtin in pytorch)\n",
        "def accuracy(yhat, y):\n",
        "    preds = torch.max(yhat,1)[1] #predizioni == neuroni con la massima probabilità\n",
        "    batch_acc = (preds == y).sum()\n",
        "    return batch_acc\n",
        "\n",
        "metric_func = accuracy\n",
        "\n",
        "class SaveBestModel:\n",
        "    def __init__(self, best_valid_loss=float('inf')): #object initialized with best_loss = +infinite\n",
        "        self.best_valid_loss = best_valid_loss\n",
        "        \n",
        "    def __call__(\n",
        "        self, current_valid_loss, \n",
        "        epoch, model, optimizer, criterion, metric,\n",
        "    ):\n",
        "        if current_valid_loss < self.best_valid_loss:\n",
        "            self.best_valid_loss = current_valid_loss\n",
        "            #print(f\"\\nBest validation loss: {self.best_valid_loss}\")\n",
        "            #print(f\"\\nSaving best model for epoch: {epoch+1}\\n\")\n",
        "\n",
        "            display(Javascript('writeLog(\"Best validation loss: '+str(self.best_valid_loss)+'\")'))\n",
        "            display(Javascript('writeLog(\"saving best model for epoch: '+str(epoch+1)+'\")'))\n",
        "\n",
        "            # method to save a model (the state_dict: a python dictionary object that \n",
        "            # maps each layer to its parameter tensor) and other useful parametrers\n",
        "            torch.save({'model' : model,\n",
        "                'epoch': epoch+1,\n",
        "                'model_state_dict': model.state_dict(),\n",
        "                'optimizer_state_dict': optimizer.state_dict(),\n",
        "                'loss': criterion,\n",
        "                'metric': metric,\n",
        "                }, 'best_model.pt')"
      ],
      "metadata": {
        "id": "KWQJtysArNOd"
      },
      "execution_count": 7,
      "outputs": []
    },
    {
      "cell_type": "markdown",
      "source": [
        "# Importa dati"
      ],
      "metadata": {
        "id": "peO2br2LQTtB"
      }
    },
    {
      "cell_type": "code",
      "source": [
        "# Calcolo matrice di correlazione\n",
        "def CorrelationMatrix(data, title):\n",
        "  print(title)\n",
        "  #matrice di correlazione\n",
        "  corrmatrix=np.corrcoef(data.transpose())\n",
        "  print(\"Correlation Matrix Dimensions: \"+str(corrmatrix.shape))\n",
        "  plt.matshow(corrmatrix)\n",
        "  plt.gca().xaxis.tick_bottom()\n",
        "  cb = plt.colorbar()\n",
        "  cb.ax.tick_params(labelsize=14)\n",
        "  plt.title(title, fontsize=12)\n",
        "  plt.show()\n",
        "\n",
        "def CheckLabelBalance(label):\n",
        "  check=0\n",
        "  for i in range(len(label)):\n",
        "    if label[i]>0.5:\n",
        "      check+=1\n",
        "  check/=len(label)\n",
        "  print(\"label balance check result:\",check) #output binario, se esce 0.5 ->bilanciato\n",
        "\n",
        "def ImportatoreDatiBassoLivello(tipo, skipBalanceCheck = False):\n",
        "\n",
        "  print(\"####################################################\")\n",
        "  \n",
        "  Neve = 100000 #scelto 600k com massimo della ram disponibile, di più faceva crashare\n",
        "\n",
        "  number = 10000000\n",
        "  temp_shape = Neve\n",
        "  if tipo == \"test\":\n",
        "    number = 5000000\n",
        "    temp_shape = -1\n",
        "  \n",
        "  with h5py.File(\"/content/drive/MyDrive/dataset_pr5/images/\"+tipo+\"_pile_\"+str(number)+\".h5\",'r') as hdf:\n",
        "    ls = list(hdf.keys())\n",
        "    print('dataset nel file: \\n', ls)\n",
        "    features = np.array(hdf.get('features')[:Neve]).reshape(temp_shape,32,32)\n",
        "    targets = np.array(hdf.get('targets')[:Neve]).reshape(temp_shape)\n",
        "\n",
        "  print(\"Shapes\")\n",
        "  print(features.shape)\n",
        "  print(targets.shape)\n",
        "\n",
        "  #plotto degli esempi\n",
        "\n",
        "  plt.figure(figsize=(5,5))\n",
        "  for i in range(9):\n",
        "    ax = plt.subplot(3, 3, i+1)\n",
        "    ax.imshow(features[i], cmap='Greys')\n",
        "    ax.set_title(targets[i])\n",
        "    ax.get_xaxis().set_visible(False)\n",
        "    ax.get_yaxis().set_visible(False)\n",
        "\n",
        "  plt.tight_layout()\n",
        "\n",
        "  if not skipBalanceCheck:\n",
        "    print(\"Check label's balance (if 0.5 == balance)\")\n",
        "    CheckLabelBalance(targets)\n",
        "\n",
        "  return features, targets\n",
        "\n",
        "def ImportatoreDatiAltoLivello(tipo, skipBalanceCheck = False):\n",
        "\n",
        "  print(\"####################################################\")\n",
        "\n",
        "  number = 10000000\n",
        "  if tipo == \"test\":\n",
        "    number = 5000000\n",
        "\n",
        "  data = np.array(h5py.File(\"/content/drive/MyDrive/dataset_pr5/highlevel/\"+tipo+\"_pile_\"+str(number)+\".h5\")[\"features\"])\n",
        "  label = np.array(h5py.File(\"/content/drive/MyDrive/dataset_pr5/highlevel/\"+tipo+\"_pile_\"+str(number)+\".h5\")[\"targets\"])\n",
        "\n",
        "  CorrelationMatrix(data,tipo+\" Feature Correlation\")\n",
        "  print(\"Dimensional control:\")\n",
        "  print(data.shape)\n",
        "\n",
        "  if not skipBalanceCheck:\n",
        "    print(\"Check label's balance (if 0.5 == balance)\")\n",
        "    CheckLabelBalance(label)\n",
        "\n",
        "  data = data.reshape((data.shape[0], 6)).astype(\"float32\")\n",
        "  label = label.reshape((-1)).astype('int64')\n",
        "\n",
        "  #Reduce dataset dimensions by 40%\n",
        "  data, _, label, _ = train_test_split(data, label, test_size=0.6, shuffle=True, random_state=42)\n",
        "\n",
        "  #Check datasets dimensions\n",
        "  print(\"Check dataset's dimensions - \"+tipo)\n",
        "  print(data.shape)\n",
        "  print(label.shape)\n",
        "\n",
        "  # solo hilevel\n",
        "  data = data.reshape(-1, 6)\n",
        "\n",
        "  return data, label\n",
        "\n",
        "def CreaDataloader(tipo, level,skipBalanceCheck = False, batch_size = 1000):\n",
        "  if level == \"hi\":\n",
        "    x, y = ImportatoreDatiAltoLivello(tipo, skipBalanceCheck)\n",
        "    return DataLoader(TensorDataset(torch.from_numpy(x),torch.from_numpy(y)), batch_size = batch_size)\n",
        "  \n",
        "  if level == \"lo\":\n",
        "    x, y = ImportatoreDatiBassoLivello(tipo, skipBalanceCheck)\n",
        "    x = torch.from_numpy(x.reshape((-1,32,32,1)).astype(\"float32\")).permute(0,3,1,2)\n",
        "    y = torch.from_numpy(y.reshape((-1)).astype('int64'))\n",
        "    return DataLoader(TensorDataset(x,y), batch_size = batch_size)\n",
        "\n",
        "def DataProcessing(level = \"\", skipBalanceCheck = False):\n",
        "  train = {}\n",
        "  test = {}\n",
        "\n",
        "  if level == \"hi\":\n",
        "    train[\"hi\"] = CreaDataloader(\"train\",\"hi\", skipBalanceCheck)\n",
        "    test[\"hi\"] = CreaDataloader(\"test\",\"hi\", skipBalanceCheck)\n",
        "  \n",
        "  elif level == \"lo\":\n",
        "    train[\"lo\"] = CreaDataloader(\"train\",\"lo\", skipBalanceCheck)\n",
        "    test[\"lo\"] = CreaDataloader(\"test\",\"lo\", skipBalanceCheck)\n",
        "  \n",
        "  else:\n",
        "    train[\"hi\"] = CreaDataloader(\"train\",\"hi\", skipBalanceCheck)\n",
        "    test[\"hi\"] = CreaDataloader(\"test\",\"hi\", skipBalanceCheck)\n",
        "    train[\"lo\"] = CreaDataloader(\"train\",\"lo\", skipBalanceCheck)\n",
        "    test[\"lo\"] = CreaDataloader(\"test\",\"lo\", skipBalanceCheck)\n",
        "  \n",
        "  return train,test"
      ],
      "metadata": {
        "id": "iCb0HmfnUNw8"
      },
      "execution_count": 8,
      "outputs": []
    },
    {
      "cell_type": "code",
      "source": [
        "train, test = DataProcessing(\"\",True)"
      ],
      "metadata": {
        "colab": {
          "base_uri": "https://localhost:8080/",
          "height": 0
        },
        "id": "KJCXzx8TGrY1",
        "outputId": "60cd2a18-bd4f-43e9-e037-4be1b2694150"
      },
      "execution_count": 9,
      "outputs": [
        {
          "output_type": "stream",
          "name": "stdout",
          "text": [
            "####################################################\n",
            "train Feature Correlation\n",
            "Correlation Matrix Dimensions: (6, 6)\n"
          ]
        },
        {
          "output_type": "display_data",
          "data": {
            "text/plain": [
              "<Figure size 288x288 with 2 Axes>"
            ],
            "image/png": "[encoded data removed]"
          },
          "metadata": {
            "needs_background": "light"
          }
        },
        {
          "output_type": "stream",
          "name": "stdout",
          "text": [
            "Dimensional control:\n",
            "(10000000, 6)\n",
            "Check dataset's dimensions - train\n",
            "(4000000, 6)\n",
            "(4000000,)\n",
            "####################################################\n",
            "test Feature Correlation\n",
            "Correlation Matrix Dimensions: (6, 6)\n"
          ]
        },
        {
          "output_type": "display_data",
          "data": {
            "text/plain": [
              "<Figure size 288x288 with 2 Axes>"
            ],
            "image/png": "[encoded data removed]"
          },
          "metadata": {
            "needs_background": "light"
          }
        },
        {
          "output_type": "stream",
          "name": "stdout",
          "text": [
            "Dimensional control:\n",
            "(5000000, 6)\n",
            "Check dataset's dimensions - test\n",
            "(2000000, 6)\n",
            "(2000000,)\n",
            "####################################################\n",
            "dataset nel file: \n",
            " ['features', 'targets']\n",
            "Shapes\n",
            "(100000, 32, 32)\n",
            "(100000,)\n",
            "####################################################\n",
            "dataset nel file: \n",
            " ['features', 'targets']\n",
            "Shapes\n",
            "(100000, 32, 32)\n",
            "(100000,)\n"
          ]
        },
        {
          "output_type": "display_data",
          "data": {
            "text/plain": [
              "<Figure size 360x360 with 9 Axes>"
            ],
            "image/png": "[encoded data removed]"
          },
          "metadata": {
            "needs_background": "light"
          }
        },
        {
          "output_type": "display_data",
          "data": {
            "text/plain": [
              "<Figure size 360x360 with 9 Axes>"
            ],
            "image/png": "[encoded data removed]"
          },
          "metadata": {
            "needs_background": "light"
          }
        }
      ]
    },
    {
      "cell_type": "markdown",
      "source": [
        "# Convolutional Neural Network"
      ],
      "metadata": {
        "id": "J9bcMGbisJxR"
      }
    },
    {
      "cell_type": "code",
      "source": [
        "SM=torch.nn.Softmax(dim=1)\n",
        "\n",
        "batch_size = 1000\n",
        "\n",
        "class CNN(nn.Module):\n",
        "  def __init__(self):\n",
        "    super(CNN, self).__init__()\n",
        "\n",
        "    # definizione dei layers\n",
        "    self.conv1 = nn.Conv2d(in_channels=1, out_channels=16, kernel_size=(3,3))\n",
        "    self.conv2 = nn.Conv2d(in_channels=16, out_channels=16, kernel_size=(3,3))\n",
        "    self.conv3 = nn.Conv2d(in_channels=16, out_channels=32, kernel_size=(3,3))\n",
        "\n",
        "    self.pool = nn.MaxPool2d(kernel_size=(2,2))\n",
        "    \n",
        "    # MLP\n",
        "    self.flatten = nn.Flatten() #flatten layer\n",
        "    self.drop = nn.Dropout(p=0.5) #droput \n",
        "\n",
        "    self.fc1 = nn.Linear(in_features=128, out_features=256)\n",
        "    self.fc2 = nn.Linear(in_features=256, out_features=128)\n",
        "    self.fc3 = nn.Linear(in_features=128, out_features=2)\n",
        "\n",
        "  # forward pass: x (input) -> out  \n",
        "  def forward(self, x):\n",
        "    x = F.relu(self.conv1(x))\n",
        "    x = self.pool(x)\n",
        "    x = F.relu(self.conv2(x))\n",
        "    x = self.pool(x)\n",
        "    x = F.relu(self.conv3(x))\n",
        "    x = self.pool(x)\n",
        "\n",
        "    #flatten\n",
        "    x = self.flatten(x)\n",
        "\n",
        "    x = self.drop(x)\n",
        "    x = F.relu(self.fc1(x))\n",
        "    x = self.drop(x)\n",
        "    x = F.relu(self.fc2(x))\n",
        "    x = self.fc3(x)\n",
        "    out=x\n",
        "\n",
        "    return out\n",
        "  \n",
        "# printout del modello\n",
        "\n",
        "cnn = CNN()\n",
        "\n",
        "if torch.cuda.is_available():\n",
        "  print(\"cuda\")\n",
        "  summary(cnn.cuda(), input_size=(1,32,32))\n",
        "else:\n",
        "  summary(cnn, input_size=(1,32,32))\n",
        "\n"
      ],
      "metadata": {
        "colab": {
          "base_uri": "https://localhost:8080/"
        },
        "id": "I_E-RiL2sNCc",
        "outputId": "778aba69-2f64-4264-a356-74664b7518a5"
      },
      "execution_count": 10,
      "outputs": [
        {
          "output_type": "stream",
          "name": "stdout",
          "text": [
            "cuda\n",
            "----------------------------------------------------------------\n",
            "        Layer (type)               Output Shape         Param #\n",
            "================================================================\n",
            "            Conv2d-1           [-1, 16, 30, 30]             160\n",
            "         MaxPool2d-2           [-1, 16, 15, 15]               0\n",
            "            Conv2d-3           [-1, 16, 13, 13]           2,320\n",
            "         MaxPool2d-4             [-1, 16, 6, 6]               0\n",
            "            Conv2d-5             [-1, 32, 4, 4]           4,640\n",
            "         MaxPool2d-6             [-1, 32, 2, 2]               0\n",
            "           Flatten-7                  [-1, 128]               0\n",
            "           Dropout-8                  [-1, 128]               0\n",
            "            Linear-9                  [-1, 256]          33,024\n",
            "          Dropout-10                  [-1, 256]               0\n",
            "           Linear-11                  [-1, 128]          32,896\n",
            "           Linear-12                    [-1, 2]             258\n",
            "================================================================\n",
            "Total params: 73,298\n",
            "Trainable params: 73,298\n",
            "Non-trainable params: 0\n",
            "----------------------------------------------------------------\n",
            "Input size (MB): 0.00\n",
            "Forward/backward pass size (MB): 0.17\n",
            "Params size (MB): 0.28\n",
            "Estimated Total Size (MB): 0.46\n",
            "----------------------------------------------------------------\n"
          ]
        }
      ]
    },
    {
      "cell_type": "code",
      "source": [
        "#Test del dataloader\n",
        "\n",
        "feat, label = next(iter(train[\"lo\"]))\n",
        "\n",
        "feat=feat.to(device)\n",
        "label=label.to(device)\n",
        "\n",
        "out = cnn(feat)\n",
        "\n",
        "print(out.shape)\n",
        "for i in range(10):\n",
        "  print(out[i])\n",
        "\n",
        "# ottmizzatore: usiamo per esempio la discesa stocastica lungo il gradiente con momentum\n",
        "from torch import optim\n",
        "opt = optim.Adam(cnn.parameters(),betas=(0.9, 0.999),weight_decay=1e-5, lr=0.001)\n",
        "# aggiungiamo uno scheduler per il LR che diminusice il LR sui plateu\n",
        "scheduler = optim.lr_scheduler.ReduceLROnPlateau(opt,mode='min', factor=0.1, patience=5, threshold=0.0001, threshold_mode='rel', cooldown=0, min_lr=0, eps=1e-10, verbose=True)\n",
        "print(opt.param_groups[0]['lr'])\n"
      ],
      "metadata": {
        "colab": {
          "base_uri": "https://localhost:8080/"
        },
        "id": "IN4nTc3U3b35",
        "outputId": "1041949a-41eb-4a60-d7b2-2ffa6fd283e3"
      },
      "execution_count": 11,
      "outputs": [
        {
          "output_type": "stream",
          "name": "stdout",
          "text": [
            "torch.Size([1000, 2])\n",
            "tensor([-0.1347, -1.9635], device='cuda:0', grad_fn=<SelectBackward0>)\n",
            "tensor([ 0.3605, -0.1704], device='cuda:0', grad_fn=<SelectBackward0>)\n",
            "tensor([-0.2195, -2.3306], device='cuda:0', grad_fn=<SelectBackward0>)\n",
            "tensor([ 0.2431, -1.8915], device='cuda:0', grad_fn=<SelectBackward0>)\n",
            "tensor([ 0.0378, -0.7078], device='cuda:0', grad_fn=<SelectBackward0>)\n",
            "tensor([ 0.1004, -0.9075], device='cuda:0', grad_fn=<SelectBackward0>)\n",
            "tensor([ 0.0558, -0.6427], device='cuda:0', grad_fn=<SelectBackward0>)\n",
            "tensor([-0.2314, -0.1947], device='cuda:0', grad_fn=<SelectBackward0>)\n",
            "tensor([ 0.0364, -1.1242], device='cuda:0', grad_fn=<SelectBackward0>)\n",
            "tensor([-0.5810, -1.6872], device='cuda:0', grad_fn=<SelectBackward0>)\n",
            "0.001\n"
          ]
        }
      ]
    },
    {
      "cell_type": "code",
      "source": [
        "import IPython\n",
        "import numpy as np\n",
        "from IPython.display import display, HTML, Javascript\n",
        "import time\n",
        "import random\n",
        "\n",
        "realtimegraph.configure_browser_state()\n",
        "\n",
        "import time\n",
        "cnn.to(device)\n",
        "save_best_model = SaveBestModel()\n",
        "\n",
        "# numero di epoche\n",
        "epochs = 200 #Possiamo fermare l'allenamento quando vogliamo, 200 è solo un numero grande\n",
        "temp=1 #LOSS a epocha zero, mi serve nel loop e la Loss è sempre minore di 1 nei nostri test\n",
        "\n",
        "# liste su cui salvare il valore della loss e della metrica ad ogni epoca per poterli graficare in funzione \n",
        "# dell'epoca a fine addestramento\n",
        "hist_loss = []\n",
        "hist_metric = []\n",
        "hist_vloss = []\n",
        "hist_vmetric = []\n",
        "#auroc\n",
        "auroc = AUROC(num_classes=2)\n",
        "\n",
        "\n",
        "# loop sulle epoche\n",
        "for epoch in range(epochs):\n",
        "    display(Javascript('writeLog(\"--------------------\")'))\n",
        "    t0 = time.time()\n",
        "\n",
        "    display(Javascript('writeLog(\"start epoch '+str(epoch+1)+'\")'))\n",
        "\n",
        "    # training step (in cui aggiorniamo i pesi della rete neurale)\n",
        "    cnn.train()\n",
        "    train_loss = 0\n",
        "    train_metric = 0\n",
        "    train_AUC=0\n",
        "    counter = 0\n",
        "\n",
        "    display(Javascript('writeLog(\"start training step\")'))\n",
        "    for xb, yb in train[\"lo\"]:\n",
        "        counter += 1\n",
        "        xb=xb.to(device) #copio il mini batch di dati sulla CPU/GPU\n",
        "        yb=yb.to(device) #copio il mini batch di label sulla CPU/GPU\n",
        "\n",
        "        pred = cnn(xb) #predizione del modello\n",
        "\n",
        "        # calcolo loss e metrica\n",
        "        loss = loss_func(pred, yb)\n",
        "        metric = metric_func(pred, yb)\n",
        "\n",
        "\n",
        "        # aggiorno la loss e metrica totale\n",
        "        train_loss += loss.item()\n",
        "        train_metric += metric.item()\n",
        "\n",
        "\n",
        "        # backpropagation\n",
        "        opt.zero_grad() #resetta i gradienti prima di eseguire la backpropagation\n",
        "        loss.backward() #calcola i gradeinti della loss\n",
        "        opt.step() #aggiorna i pesi\n",
        "\n",
        "\n",
        "    train_loss /= counter\n",
        "    train_metric /= (counter*batch_size)\n",
        "\n",
        "    hist_loss.append(train_loss)\n",
        "    hist_metric.append(train_metric)\n",
        "    \n",
        "    #grafico in tempo reale della train loss e della train metric\n",
        "    display(Javascript('addData('+str(epoch+1)+','+str(train_loss)+','+str(train_metric)+')'))\n",
        "\n",
        "    # validation step (non vengono aggiornati i pesi)\n",
        "    display(Javascript('writeLog(\"-------\")'))\n",
        "    display(Javascript('writeLog(\"start validation step\")'))\n",
        "    cnn.eval()\n",
        "    vali_loss = 0\n",
        "    vali_metric = 0\n",
        "    counter = 0\n",
        "    with torch.no_grad(): #evita che si aggiornino i pesi\n",
        "      for xb, yb in test[\"lo\"]:\n",
        "        counter += 1\n",
        "        xb=xb.to(device)\n",
        "        yb=yb.to(device)\n",
        "\n",
        "        pred = cnn(xb) #predizione del modello\n",
        "\n",
        "        # calcolo loss e metrica\n",
        "        vloss = loss_func(pred, yb)\n",
        "        vmetric = metric_func(pred, yb)\n",
        "\n",
        "        vali_loss += vloss.item()\n",
        "        vali_metric += vmetric.item() \n",
        "\n",
        " \n",
        "\n",
        "    vali_loss /= counter\n",
        "    vali_metric /= (counter*batch_size)\n",
        " \n",
        "    hist_vloss.append(vali_loss)\n",
        "    hist_vmetric.append(vali_metric)\n",
        "\n",
        "\n",
        "\n",
        "    #update learning rate schedule\n",
        "    #print(\"Current LR:\",opt.param_groups[0]['lr'],\"Delta Vali Loss:\",temp-vali_loss)   \n",
        "    display(Javascript('writeLog(\"Current LR: '+str(opt.param_groups[0]['lr'])+', Delta Vali Loss: '+str(temp-vali_loss)+')'))\n",
        "    scheduler.step(vali_loss) \n",
        "    temp=vali_loss\n",
        "\n",
        "    #save best model\n",
        "    save_best_model(vali_loss, epoch, cnn, opt, loss_func, metric_func)   \n",
        "\n",
        "    elapsed_time = time.time()-t0\n",
        "    #print(\"epoch: %d, time(s): %.4f, train loss: %.6f, train metric: %.6f, vali loss: %.6f, vali metric: %.6f\" \n",
        "    #      % (epoch+1, elapsed_time, train_loss, train_metric, vali_loss, vali_metric))\n",
        "    display(Javascript('writeLog(\"epoch: '+str(epoch+1)+', time(s): '+str(elapsed_time)+', train loss: '+str(train_loss)+', train metric: '+str(train_metric)+', vali loss: '+str(vali_loss)+', vali metric: '+str(vali_metric)+'\")'))\n",
        "    "
      ],
      "metadata": {
        "colab": {
          "base_uri": "https://localhost:8080/",
          "height": 1000
        },
        "id": "6J9yeofbFglY",
        "outputId": "43a49feb-e703-43a5-f4dd-2ed2ed4ab211"
      },
      "execution_count": 12,
      "outputs": [
        {
          "output_type": "display_data",
          "data": {
            "text/plain": [
              "<IPython.core.display.HTML object>"
            ],
            "text/html": [
              "\n",
              "    <canvas id=\"myChart\"></canvas>\n",
              "    <br />\n",
              "    <div id=\"log\">Log:<br/></div>\n",
              "  "
            ]
          },
          "metadata": {}
        },
        {
          "output_type": "display_data",
          "data": {
            "text/plain": [
              "<IPython.core.display.HTML object>"
            ],
            "text/html": [
              "\n",
              "        <script src=\"https://cdn.jsdelivr.net/npm/chart.js@2.8.0\"></script>\n",
              "        <script src=\"https://code.jquery.com/jquery-3.6.1.slim.min.js\"></script>\n",
              "        <script src=\"https://cdn.jsdelivr.net/gh/atancredi/NotebookRealTimePlotting/Core.min.js\"></script>\n",
              "        "
            ]
          },
          "metadata": {}
        },
        {
          "output_type": "stream",
          "name": "stderr",
          "text": [
            "/usr/local/lib/python3.7/dist-packages/torchmetrics/utilities/prints.py:36: UserWarning: Metric `AUROC` will save all targets and predictions in buffer. For large datasets this may lead to large memory footprint.\n",
            "  warnings.warn(*args, **kwargs)\n"
          ]
        },
        {
          "output_type": "display_data",
          "data": {
            "text/plain": [
              "<IPython.core.display.Javascript object>"
            ],
            "application/javascript": [
              "writeLog(\"--------------------\")"
            ]
          },
          "metadata": {}
        },
        {
          "output_type": "display_data",
          "data": {
            "text/plain": [
              "<IPython.core.display.Javascript object>"
            ],
            "application/javascript": [
              "writeLog(\"start epoch 1\")"
            ]
          },
          "metadata": {}
        },
        {
          "output_type": "display_data",
          "data": {
            "text/plain": [
              "<IPython.core.display.Javascript object>"
            ],
            "application/javascript": [
              "writeLog(\"start training step\")"
            ]
          },
          "metadata": {}
        },
        {
          "output_type": "display_data",
          "data": {
            "text/plain": [
              "<IPython.core.display.Javascript object>"
            ],
            "application/javascript": [
              "addData(1,0.5142584866285325,0.74976)"
            ]
          },
          "metadata": {}
        },
        {
          "output_type": "display_data",
          "data": {
            "text/plain": [
              "<IPython.core.display.Javascript object>"
            ],
            "application/javascript": [
              "writeLog(\"-------\")"
            ]
          },
          "metadata": {}
        },
        {
          "output_type": "display_data",
          "data": {
            "text/plain": [
              "<IPython.core.display.Javascript object>"
            ],
            "application/javascript": [
              "writeLog(\"start validation step\")"
            ]
          },
          "metadata": {}
        },
        {
          "output_type": "display_data",
          "data": {
            "text/plain": [
              "<IPython.core.display.Javascript object>"
            ],
            "application/javascript": [
              "writeLog(\"Current LR: 0.001, Delta Vali Loss: 0.5828081607818604)"
            ]
          },
          "metadata": {}
        },
        {
          "output_type": "display_data",
          "data": {
            "text/plain": [
              "<IPython.core.display.Javascript object>"
            ],
            "application/javascript": [
              "writeLog(\"Best validation loss: 0.4171918392181396\")"
            ]
          },
          "metadata": {}
        },
        {
          "output_type": "display_data",
          "data": {
            "text/plain": [
              "<IPython.core.display.Javascript object>"
            ],
            "application/javascript": [
              "writeLog(\"saving best model for epoch: 1\")"
            ]
          },
          "metadata": {}
        },
        {
          "output_type": "display_data",
          "data": {
            "text/plain": [
              "<IPython.core.display.Javascript object>"
            ],
            "application/javascript": [
              "writeLog(\"epoch: 1, time(s): 3.6412196159362793, train loss: 0.5142584866285325, train metric: 0.74976, vali loss: 0.4171918392181396, vali metric: 0.81734\")"
            ]
          },
          "metadata": {}
        },
        {
          "output_type": "display_data",
          "data": {
            "text/plain": [
              "<IPython.core.display.Javascript object>"
            ],
            "application/javascript": [
              "writeLog(\"--------------------\")"
            ]
          },
          "metadata": {}
        },
        {
          "output_type": "display_data",
          "data": {
            "text/plain": [
              "<IPython.core.display.Javascript object>"
            ],
            "application/javascript": [
              "writeLog(\"start epoch 2\")"
            ]
          },
          "metadata": {}
        },
        {
          "output_type": "display_data",
          "data": {
            "text/plain": [
              "<IPython.core.display.Javascript object>"
            ],
            "application/javascript": [
              "writeLog(\"start training step\")"
            ]
          },
          "metadata": {}
        },
        {
          "output_type": "display_data",
          "data": {
            "text/plain": [
              "<IPython.core.display.Javascript object>"
            ],
            "application/javascript": [
              "addData(2,0.42077475517988205,0.82142)"
            ]
          },
          "metadata": {}
        },
        {
          "output_type": "display_data",
          "data": {
            "text/plain": [
              "<IPython.core.display.Javascript object>"
            ],
            "application/javascript": [
              "writeLog(\"-------\")"
            ]
          },
          "metadata": {}
        },
        {
          "output_type": "display_data",
          "data": {
            "text/plain": [
              "<IPython.core.display.Javascript object>"
            ],
            "application/javascript": [
              "writeLog(\"start validation step\")"
            ]
          },
          "metadata": {}
        },
        {
          "output_type": "display_data",
          "data": {
            "text/plain": [
              "<IPython.core.display.Javascript object>"
            ],
            "application/javascript": [
              "writeLog(\"Current LR: 0.001, Delta Vali Loss: 0.027221810519695244)"
            ]
          },
          "metadata": {}
        },
        {
          "output_type": "display_data",
          "data": {
            "text/plain": [
              "<IPython.core.display.Javascript object>"
            ],
            "application/javascript": [
              "writeLog(\"Best validation loss: 0.3899700286984444\")"
            ]
          },
          "metadata": {}
        },
        {
          "output_type": "display_data",
          "data": {
            "text/plain": [
              "<IPython.core.display.Javascript object>"
            ],
            "application/javascript": [
              "writeLog(\"saving best model for epoch: 2\")"
            ]
          },
          "metadata": {}
        },
        {
          "output_type": "display_data",
          "data": {
            "text/plain": [
              "<IPython.core.display.Javascript object>"
            ],
            "application/javascript": [
              "writeLog(\"epoch: 2, time(s): 2.966874122619629, train loss: 0.42077475517988205, train metric: 0.82142, vali loss: 0.3899700286984444, vali metric: 0.83562\")"
            ]
          },
          "metadata": {}
        },
        {
          "output_type": "display_data",
          "data": {
            "text/plain": [
              "<IPython.core.display.Javascript object>"
            ],
            "application/javascript": [
              "writeLog(\"--------------------\")"
            ]
          },
          "metadata": {}
        },
        {
          "output_type": "display_data",
          "data": {
            "text/plain": [
              "<IPython.core.display.Javascript object>"
            ],
            "application/javascript": [
              "writeLog(\"start epoch 3\")"
            ]
          },
          "metadata": {}
        },
        {
          "output_type": "display_data",
          "data": {
            "text/plain": [
              "<IPython.core.display.Javascript object>"
            ],
            "application/javascript": [
              "writeLog(\"start training step\")"
            ]
          },
          "metadata": {}
        },
        {
          "output_type": "display_data",
          "data": {
            "text/plain": [
              "<IPython.core.display.Javascript object>"
            ],
            "application/javascript": [
              "addData(3,0.4008354941010475,0.83258)"
            ]
          },
          "metadata": {}
        },
        {
          "output_type": "display_data",
          "data": {
            "text/plain": [
              "<IPython.core.display.Javascript object>"
            ],
            "application/javascript": [
              "writeLog(\"-------\")"
            ]
          },
          "metadata": {}
        },
        {
          "output_type": "display_data",
          "data": {
            "text/plain": [
              "<IPython.core.display.Javascript object>"
            ],
            "application/javascript": [
              "writeLog(\"start validation step\")"
            ]
          },
          "metadata": {}
        },
        {
          "output_type": "display_data",
          "data": {
            "text/plain": [
              "<IPython.core.display.Javascript object>"
            ],
            "application/javascript": [
              "writeLog(\"Current LR: 0.001, Delta Vali Loss: 0.013558788299560587)"
            ]
          },
          "metadata": {}
        },
        {
          "output_type": "display_data",
          "data": {
            "text/plain": [
              "<IPython.core.display.Javascript object>"
            ],
            "application/javascript": [
              "writeLog(\"Best validation loss: 0.3764112403988838\")"
            ]
          },
          "metadata": {}
        },
        {
          "output_type": "display_data",
          "data": {
            "text/plain": [
              "<IPython.core.display.Javascript object>"
            ],
            "application/javascript": [
              "writeLog(\"saving best model for epoch: 3\")"
            ]
          },
          "metadata": {}
        },
        {
          "output_type": "display_data",
          "data": {
            "text/plain": [
              "<IPython.core.display.Javascript object>"
            ],
            "application/javascript": [
              "writeLog(\"epoch: 3, time(s): 3.0288379192352295, train loss: 0.4008354941010475, train metric: 0.83258, vali loss: 0.3764112403988838, vali metric: 0.84261\")"
            ]
          },
          "metadata": {}
        },
        {
          "output_type": "display_data",
          "data": {
            "text/plain": [
              "<IPython.core.display.Javascript object>"
            ],
            "application/javascript": [
              "writeLog(\"--------------------\")"
            ]
          },
          "metadata": {}
        },
        {
          "output_type": "display_data",
          "data": {
            "text/plain": [
              "<IPython.core.display.Javascript object>"
            ],
            "application/javascript": [
              "writeLog(\"start epoch 4\")"
            ]
          },
          "metadata": {}
        },
        {
          "output_type": "display_data",
          "data": {
            "text/plain": [
              "<IPython.core.display.Javascript object>"
            ],
            "application/javascript": [
              "writeLog(\"start training step\")"
            ]
          },
          "metadata": {}
        },
        {
          "output_type": "display_data",
          "data": {
            "text/plain": [
              "<IPython.core.display.Javascript object>"
            ],
            "application/javascript": [
              "addData(4,0.3884710690379143,0.83925)"
            ]
          },
          "metadata": {}
        },
        {
          "output_type": "display_data",
          "data": {
            "text/plain": [
              "<IPython.core.display.Javascript object>"
            ],
            "application/javascript": [
              "writeLog(\"-------\")"
            ]
          },
          "metadata": {}
        },
        {
          "output_type": "display_data",
          "data": {
            "text/plain": [
              "<IPython.core.display.Javascript object>"
            ],
            "application/javascript": [
              "writeLog(\"start validation step\")"
            ]
          },
          "metadata": {}
        },
        {
          "output_type": "display_data",
          "data": {
            "text/plain": [
              "<IPython.core.display.Javascript object>"
            ],
            "application/javascript": [
              "writeLog(\"Current LR: 0.001, Delta Vali Loss: 0.007335856258869122)"
            ]
          },
          "metadata": {}
        },
        {
          "output_type": "display_data",
          "data": {
            "text/plain": [
              "<IPython.core.display.Javascript object>"
            ],
            "application/javascript": [
              "writeLog(\"Best validation loss: 0.3690753841400147\")"
            ]
          },
          "metadata": {}
        },
        {
          "output_type": "display_data",
          "data": {
            "text/plain": [
              "<IPython.core.display.Javascript object>"
            ],
            "application/javascript": [
              "writeLog(\"saving best model for epoch: 4\")"
            ]
          },
          "metadata": {}
        },
        {
          "output_type": "display_data",
          "data": {
            "text/plain": [
              "<IPython.core.display.Javascript object>"
            ],
            "application/javascript": [
              "writeLog(\"epoch: 4, time(s): 3.005638837814331, train loss: 0.3884710690379143, train metric: 0.83925, vali loss: 0.3690753841400147, vali metric: 0.84688\")"
            ]
          },
          "metadata": {}
        },
        {
          "output_type": "display_data",
          "data": {
            "text/plain": [
              "<IPython.core.display.Javascript object>"
            ],
            "application/javascript": [
              "writeLog(\"--------------------\")"
            ]
          },
          "metadata": {}
        },
        {
          "output_type": "display_data",
          "data": {
            "text/plain": [
              "<IPython.core.display.Javascript object>"
            ],
            "application/javascript": [
              "writeLog(\"start epoch 5\")"
            ]
          },
          "metadata": {}
        },
        {
          "output_type": "display_data",
          "data": {
            "text/plain": [
              "<IPython.core.display.Javascript object>"
            ],
            "application/javascript": [
              "writeLog(\"start training step\")"
            ]
          },
          "metadata": {}
        },
        {
          "output_type": "display_data",
          "data": {
            "text/plain": [
              "<IPython.core.display.Javascript object>"
            ],
            "application/javascript": [
              "addData(5,0.38029134303331374,0.84269)"
            ]
          },
          "metadata": {}
        },
        {
          "output_type": "display_data",
          "data": {
            "text/plain": [
              "<IPython.core.display.Javascript object>"
            ],
            "application/javascript": [
              "writeLog(\"-------\")"
            ]
          },
          "metadata": {}
        },
        {
          "output_type": "display_data",
          "data": {
            "text/plain": [
              "<IPython.core.display.Javascript object>"
            ],
            "application/javascript": [
              "writeLog(\"start validation step\")"
            ]
          },
          "metadata": {}
        },
        {
          "output_type": "display_data",
          "data": {
            "text/plain": [
              "<IPython.core.display.Javascript object>"
            ],
            "application/javascript": [
              "writeLog(\"Current LR: 0.001, Delta Vali Loss: -0.0007420083880424477)"
            ]
          },
          "metadata": {}
        },
        {
          "output_type": "display_data",
          "data": {
            "text/plain": [
              "<IPython.core.display.Javascript object>"
            ],
            "application/javascript": [
              "writeLog(\"epoch: 5, time(s): 2.9921681880950928, train loss: 0.38029134303331374, train metric: 0.84269, vali loss: 0.3698173925280571, vali metric: 0.84852\")"
            ]
          },
          "metadata": {}
        },
        {
          "output_type": "display_data",
          "data": {
            "text/plain": [
              "<IPython.core.display.Javascript object>"
            ],
            "application/javascript": [
              "writeLog(\"--------------------\")"
            ]
          },
          "metadata": {}
        },
        {
          "output_type": "display_data",
          "data": {
            "text/plain": [
              "<IPython.core.display.Javascript object>"
            ],
            "application/javascript": [
              "writeLog(\"start epoch 6\")"
            ]
          },
          "metadata": {}
        },
        {
          "output_type": "display_data",
          "data": {
            "text/plain": [
              "<IPython.core.display.Javascript object>"
            ],
            "application/javascript": [
              "writeLog(\"start training step\")"
            ]
          },
          "metadata": {}
        },
        {
          "output_type": "display_data",
          "data": {
            "text/plain": [
              "<IPython.core.display.Javascript object>"
            ],
            "application/javascript": [
              "addData(6,0.3745285525918007,0.84578)"
            ]
          },
          "metadata": {}
        },
        {
          "output_type": "display_data",
          "data": {
            "text/plain": [
              "<IPython.core.display.Javascript object>"
            ],
            "application/javascript": [
              "writeLog(\"-------\")"
            ]
          },
          "metadata": {}
        },
        {
          "output_type": "display_data",
          "data": {
            "text/plain": [
              "<IPython.core.display.Javascript object>"
            ],
            "application/javascript": [
              "writeLog(\"start validation step\")"
            ]
          },
          "metadata": {}
        },
        {
          "output_type": "display_data",
          "data": {
            "text/plain": [
              "<IPython.core.display.Javascript object>"
            ],
            "application/javascript": [
              "writeLog(\"Current LR: 0.001, Delta Vali Loss: 0.006261584758758543)"
            ]
          },
          "metadata": {}
        },
        {
          "output_type": "display_data",
          "data": {
            "text/plain": [
              "<IPython.core.display.Javascript object>"
            ],
            "application/javascript": [
              "writeLog(\"Best validation loss: 0.3635558077692986\")"
            ]
          },
          "metadata": {}
        },
        {
          "output_type": "display_data",
          "data": {
            "text/plain": [
              "<IPython.core.display.Javascript object>"
            ],
            "application/javascript": [
              "writeLog(\"saving best model for epoch: 6\")"
            ]
          },
          "metadata": {}
        },
        {
          "output_type": "display_data",
          "data": {
            "text/plain": [
              "<IPython.core.display.Javascript object>"
            ],
            "application/javascript": [
              "writeLog(\"epoch: 6, time(s): 3.0652358531951904, train loss: 0.3745285525918007, train metric: 0.84578, vali loss: 0.3635558077692986, vali metric: 0.85097\")"
            ]
          },
          "metadata": {}
        },
        {
          "output_type": "display_data",
          "data": {
            "text/plain": [
              "<IPython.core.display.Javascript object>"
            ],
            "application/javascript": [
              "writeLog(\"--------------------\")"
            ]
          },
          "metadata": {}
        },
        {
          "output_type": "display_data",
          "data": {
            "text/plain": [
              "<IPython.core.display.Javascript object>"
            ],
            "application/javascript": [
              "writeLog(\"start epoch 7\")"
            ]
          },
          "metadata": {}
        },
        {
          "output_type": "display_data",
          "data": {
            "text/plain": [
              "<IPython.core.display.Javascript object>"
            ],
            "application/javascript": [
              "writeLog(\"start training step\")"
            ]
          },
          "metadata": {}
        },
        {
          "output_type": "display_data",
          "data": {
            "text/plain": [
              "<IPython.core.display.Javascript object>"
            ],
            "application/javascript": [
              "addData(7,0.36971870720386507,0.8476)"
            ]
          },
          "metadata": {}
        },
        {
          "output_type": "display_data",
          "data": {
            "text/plain": [
              "<IPython.core.display.Javascript object>"
            ],
            "application/javascript": [
              "writeLog(\"-------\")"
            ]
          },
          "metadata": {}
        },
        {
          "output_type": "display_data",
          "data": {
            "text/plain": [
              "<IPython.core.display.Javascript object>"
            ],
            "application/javascript": [
              "writeLog(\"start validation step\")"
            ]
          },
          "metadata": {}
        },
        {
          "output_type": "display_data",
          "data": {
            "text/plain": [
              "<IPython.core.display.Javascript object>"
            ],
            "application/javascript": [
              "writeLog(\"Current LR: 0.001, Delta Vali Loss: -0.0004440221190452065)"
            ]
          },
          "metadata": {}
        },
        {
          "output_type": "display_data",
          "data": {
            "text/plain": [
              "<IPython.core.display.Javascript object>"
            ],
            "application/javascript": [
              "writeLog(\"epoch: 7, time(s): 3.1991498470306396, train loss: 0.36971870720386507, train metric: 0.8476, vali loss: 0.3639998298883438, vali metric: 0.85122\")"
            ]
          },
          "metadata": {}
        },
        {
          "output_type": "display_data",
          "data": {
            "text/plain": [
              "<IPython.core.display.Javascript object>"
            ],
            "application/javascript": [
              "writeLog(\"--------------------\")"
            ]
          },
          "metadata": {}
        },
        {
          "output_type": "display_data",
          "data": {
            "text/plain": [
              "<IPython.core.display.Javascript object>"
            ],
            "application/javascript": [
              "writeLog(\"start epoch 8\")"
            ]
          },
          "metadata": {}
        },
        {
          "output_type": "display_data",
          "data": {
            "text/plain": [
              "<IPython.core.display.Javascript object>"
            ],
            "application/javascript": [
              "writeLog(\"start training step\")"
            ]
          },
          "metadata": {}
        },
        {
          "output_type": "display_data",
          "data": {
            "text/plain": [
              "<IPython.core.display.Javascript object>"
            ],
            "application/javascript": [
              "addData(8,0.36542678624391556,0.85016)"
            ]
          },
          "metadata": {}
        },
        {
          "output_type": "display_data",
          "data": {
            "text/plain": [
              "<IPython.core.display.Javascript object>"
            ],
            "application/javascript": [
              "writeLog(\"-------\")"
            ]
          },
          "metadata": {}
        },
        {
          "output_type": "display_data",
          "data": {
            "text/plain": [
              "<IPython.core.display.Javascript object>"
            ],
            "application/javascript": [
              "writeLog(\"start validation step\")"
            ]
          },
          "metadata": {}
        },
        {
          "output_type": "display_data",
          "data": {
            "text/plain": [
              "<IPython.core.display.Javascript object>"
            ],
            "application/javascript": [
              "writeLog(\"Current LR: 0.001, Delta Vali Loss: -0.00034086197614674463)"
            ]
          },
          "metadata": {}
        },
        {
          "output_type": "display_data",
          "data": {
            "text/plain": [
              "<IPython.core.display.Javascript object>"
            ],
            "application/javascript": [
              "writeLog(\"epoch: 8, time(s): 3.0251269340515137, train loss: 0.36542678624391556, train metric: 0.85016, vali loss: 0.36434069186449053, vali metric: 0.8519\")"
            ]
          },
          "metadata": {}
        },
        {
          "output_type": "display_data",
          "data": {
            "text/plain": [
              "<IPython.core.display.Javascript object>"
            ],
            "application/javascript": [
              "writeLog(\"--------------------\")"
            ]
          },
          "metadata": {}
        },
        {
          "output_type": "display_data",
          "data": {
            "text/plain": [
              "<IPython.core.display.Javascript object>"
            ],
            "application/javascript": [
              "writeLog(\"start epoch 9\")"
            ]
          },
          "metadata": {}
        },
        {
          "output_type": "display_data",
          "data": {
            "text/plain": [
              "<IPython.core.display.Javascript object>"
            ],
            "application/javascript": [
              "writeLog(\"start training step\")"
            ]
          },
          "metadata": {}
        },
        {
          "output_type": "display_data",
          "data": {
            "text/plain": [
              "<IPython.core.display.Javascript object>"
            ],
            "application/javascript": [
              "addData(9,0.3630793529748917,0.85077)"
            ]
          },
          "metadata": {}
        },
        {
          "output_type": "display_data",
          "data": {
            "text/plain": [
              "<IPython.core.display.Javascript object>"
            ],
            "application/javascript": [
              "writeLog(\"-------\")"
            ]
          },
          "metadata": {}
        },
        {
          "output_type": "display_data",
          "data": {
            "text/plain": [
              "<IPython.core.display.Javascript object>"
            ],
            "application/javascript": [
              "writeLog(\"start validation step\")"
            ]
          },
          "metadata": {}
        },
        {
          "output_type": "display_data",
          "data": {
            "text/plain": [
              "<IPython.core.display.Javascript object>"
            ],
            "application/javascript": [
              "writeLog(\"Current LR: 0.001, Delta Vali Loss: 0.0007912638783454939)"
            ]
          },
          "metadata": {}
        },
        {
          "output_type": "display_data",
          "data": {
            "text/plain": [
              "<IPython.core.display.Javascript object>"
            ],
            "application/javascript": [
              "writeLog(\"Best validation loss: 0.36354942798614504\")"
            ]
          },
          "metadata": {}
        },
        {
          "output_type": "display_data",
          "data": {
            "text/plain": [
              "<IPython.core.display.Javascript object>"
            ],
            "application/javascript": [
              "writeLog(\"saving best model for epoch: 9\")"
            ]
          },
          "metadata": {}
        },
        {
          "output_type": "display_data",
          "data": {
            "text/plain": [
              "<IPython.core.display.Javascript object>"
            ],
            "application/javascript": [
              "writeLog(\"epoch: 9, time(s): 2.9199137687683105, train loss: 0.3630793529748917, train metric: 0.85077, vali loss: 0.36354942798614504, vali metric: 0.85266\")"
            ]
          },
          "metadata": {}
        },
        {
          "output_type": "display_data",
          "data": {
            "text/plain": [
              "<IPython.core.display.Javascript object>"
            ],
            "application/javascript": [
              "writeLog(\"--------------------\")"
            ]
          },
          "metadata": {}
        },
        {
          "output_type": "display_data",
          "data": {
            "text/plain": [
              "<IPython.core.display.Javascript object>"
            ],
            "application/javascript": [
              "writeLog(\"start epoch 10\")"
            ]
          },
          "metadata": {}
        },
        {
          "output_type": "display_data",
          "data": {
            "text/plain": [
              "<IPython.core.display.Javascript object>"
            ],
            "application/javascript": [
              "writeLog(\"start training step\")"
            ]
          },
          "metadata": {}
        },
        {
          "output_type": "display_data",
          "data": {
            "text/plain": [
              "<IPython.core.display.Javascript object>"
            ],
            "application/javascript": [
              "addData(10,0.3616542813181877,0.8513)"
            ]
          },
          "metadata": {}
        },
        {
          "output_type": "display_data",
          "data": {
            "text/plain": [
              "<IPython.core.display.Javascript object>"
            ],
            "application/javascript": [
              "writeLog(\"-------\")"
            ]
          },
          "metadata": {}
        },
        {
          "output_type": "display_data",
          "data": {
            "text/plain": [
              "<IPython.core.display.Javascript object>"
            ],
            "application/javascript": [
              "writeLog(\"start validation step\")"
            ]
          },
          "metadata": {}
        },
        {
          "output_type": "display_data",
          "data": {
            "text/plain": [
              "<IPython.core.display.Javascript object>"
            ],
            "application/javascript": [
              "writeLog(\"Current LR: 0.001, Delta Vali Loss: 0.0011181196570396734)"
            ]
          },
          "metadata": {}
        },
        {
          "output_type": "display_data",
          "data": {
            "text/plain": [
              "<IPython.core.display.Javascript object>"
            ],
            "application/javascript": [
              "writeLog(\"Best validation loss: 0.36243130832910536\")"
            ]
          },
          "metadata": {}
        },
        {
          "output_type": "display_data",
          "data": {
            "text/plain": [
              "<IPython.core.display.Javascript object>"
            ],
            "application/javascript": [
              "writeLog(\"saving best model for epoch: 10\")"
            ]
          },
          "metadata": {}
        },
        {
          "output_type": "display_data",
          "data": {
            "text/plain": [
              "<IPython.core.display.Javascript object>"
            ],
            "application/javascript": [
              "writeLog(\"epoch: 10, time(s): 2.884891986846924, train loss: 0.3616542813181877, train metric: 0.8513, vali loss: 0.36243130832910536, vali metric: 0.85383\")"
            ]
          },
          "metadata": {}
        },
        {
          "output_type": "display_data",
          "data": {
            "text/plain": [
              "<IPython.core.display.Javascript object>"
            ],
            "application/javascript": [
              "writeLog(\"--------------------\")"
            ]
          },
          "metadata": {}
        },
        {
          "output_type": "display_data",
          "data": {
            "text/plain": [
              "<IPython.core.display.Javascript object>"
            ],
            "application/javascript": [
              "writeLog(\"start epoch 11\")"
            ]
          },
          "metadata": {}
        },
        {
          "output_type": "display_data",
          "data": {
            "text/plain": [
              "<IPython.core.display.Javascript object>"
            ],
            "application/javascript": [
              "writeLog(\"start training step\")"
            ]
          },
          "metadata": {}
        },
        {
          "output_type": "display_data",
          "data": {
            "text/plain": [
              "<IPython.core.display.Javascript object>"
            ],
            "application/javascript": [
              "addData(11,0.3573358401656151,0.85484)"
            ]
          },
          "metadata": {}
        },
        {
          "output_type": "display_data",
          "data": {
            "text/plain": [
              "<IPython.core.display.Javascript object>"
            ],
            "application/javascript": [
              "writeLog(\"-------\")"
            ]
          },
          "metadata": {}
        },
        {
          "output_type": "display_data",
          "data": {
            "text/plain": [
              "<IPython.core.display.Javascript object>"
            ],
            "application/javascript": [
              "writeLog(\"start validation step\")"
            ]
          },
          "metadata": {}
        },
        {
          "output_type": "display_data",
          "data": {
            "text/plain": [
              "<IPython.core.display.Javascript object>"
            ],
            "application/javascript": [
              "writeLog(\"Current LR: 0.001, Delta Vali Loss: 0.0020158731937408025)"
            ]
          },
          "metadata": {}
        },
        {
          "output_type": "display_data",
          "data": {
            "text/plain": [
              "<IPython.core.display.Javascript object>"
            ],
            "application/javascript": [
              "writeLog(\"Best validation loss: 0.36041543513536456\")"
            ]
          },
          "metadata": {}
        },
        {
          "output_type": "display_data",
          "data": {
            "text/plain": [
              "<IPython.core.display.Javascript object>"
            ],
            "application/javascript": [
              "writeLog(\"saving best model for epoch: 11\")"
            ]
          },
          "metadata": {}
        },
        {
          "output_type": "display_data",
          "data": {
            "text/plain": [
              "<IPython.core.display.Javascript object>"
            ],
            "application/javascript": [
              "writeLog(\"epoch: 11, time(s): 2.703840732574463, train loss: 0.3573358401656151, train metric: 0.85484, vali loss: 0.36041543513536456, vali metric: 0.85313\")"
            ]
          },
          "metadata": {}
        },
        {
          "output_type": "display_data",
          "data": {
            "text/plain": [
              "<IPython.core.display.Javascript object>"
            ],
            "application/javascript": [
              "writeLog(\"--------------------\")"
            ]
          },
          "metadata": {}
        },
        {
          "output_type": "display_data",
          "data": {
            "text/plain": [
              "<IPython.core.display.Javascript object>"
            ],
            "application/javascript": [
              "writeLog(\"start epoch 12\")"
            ]
          },
          "metadata": {}
        },
        {
          "output_type": "display_data",
          "data": {
            "text/plain": [
              "<IPython.core.display.Javascript object>"
            ],
            "application/javascript": [
              "writeLog(\"start training step\")"
            ]
          },
          "metadata": {}
        },
        {
          "output_type": "display_data",
          "data": {
            "text/plain": [
              "<IPython.core.display.Javascript object>"
            ],
            "application/javascript": [
              "addData(12,0.3558277177810669,0.85472)"
            ]
          },
          "metadata": {}
        },
        {
          "output_type": "display_data",
          "data": {
            "text/plain": [
              "<IPython.core.display.Javascript object>"
            ],
            "application/javascript": [
              "writeLog(\"-------\")"
            ]
          },
          "metadata": {}
        },
        {
          "output_type": "display_data",
          "data": {
            "text/plain": [
              "<IPython.core.display.Javascript object>"
            ],
            "application/javascript": [
              "writeLog(\"start validation step\")"
            ]
          },
          "metadata": {}
        },
        {
          "output_type": "display_data",
          "data": {
            "text/plain": [
              "<IPython.core.display.Javascript object>"
            ],
            "application/javascript": [
              "writeLog(\"Current LR: 0.001, Delta Vali Loss: 0.0038697263598442277)"
            ]
          },
          "metadata": {}
        },
        {
          "output_type": "display_data",
          "data": {
            "text/plain": [
              "<IPython.core.display.Javascript object>"
            ],
            "application/javascript": [
              "writeLog(\"Best validation loss: 0.35654570877552033\")"
            ]
          },
          "metadata": {}
        },
        {
          "output_type": "display_data",
          "data": {
            "text/plain": [
              "<IPython.core.display.Javascript object>"
            ],
            "application/javascript": [
              "writeLog(\"saving best model for epoch: 12\")"
            ]
          },
          "metadata": {}
        },
        {
          "output_type": "display_data",
          "data": {
            "text/plain": [
              "<IPython.core.display.Javascript object>"
            ],
            "application/javascript": [
              "writeLog(\"epoch: 12, time(s): 2.8160977363586426, train loss: 0.3558277177810669, train metric: 0.85472, vali loss: 0.35654570877552033, vali metric: 0.85491\")"
            ]
          },
          "metadata": {}
        },
        {
          "output_type": "display_data",
          "data": {
            "text/plain": [
              "<IPython.core.display.Javascript object>"
            ],
            "application/javascript": [
              "writeLog(\"--------------------\")"
            ]
          },
          "metadata": {}
        },
        {
          "output_type": "display_data",
          "data": {
            "text/plain": [
              "<IPython.core.display.Javascript object>"
            ],
            "application/javascript": [
              "writeLog(\"start epoch 13\")"
            ]
          },
          "metadata": {}
        },
        {
          "output_type": "display_data",
          "data": {
            "text/plain": [
              "<IPython.core.display.Javascript object>"
            ],
            "application/javascript": [
              "writeLog(\"start training step\")"
            ]
          },
          "metadata": {}
        },
        {
          "output_type": "display_data",
          "data": {
            "text/plain": [
              "<IPython.core.display.Javascript object>"
            ],
            "application/javascript": [
              "addData(13,0.3556424278020859,0.8546)"
            ]
          },
          "metadata": {}
        },
        {
          "output_type": "display_data",
          "data": {
            "text/plain": [
              "<IPython.core.display.Javascript object>"
            ],
            "application/javascript": [
              "writeLog(\"-------\")"
            ]
          },
          "metadata": {}
        },
        {
          "output_type": "display_data",
          "data": {
            "text/plain": [
              "<IPython.core.display.Javascript object>"
            ],
            "application/javascript": [
              "writeLog(\"start validation step\")"
            ]
          },
          "metadata": {}
        },
        {
          "output_type": "display_data",
          "data": {
            "text/plain": [
              "<IPython.core.display.Javascript object>"
            ],
            "application/javascript": [
              "writeLog(\"Current LR: 0.001, Delta Vali Loss: -0.0006295827031135293)"
            ]
          },
          "metadata": {}
        },
        {
          "output_type": "display_data",
          "data": {
            "text/plain": [
              "<IPython.core.display.Javascript object>"
            ],
            "application/javascript": [
              "writeLog(\"epoch: 13, time(s): 2.8505895137786865, train loss: 0.3556424278020859, train metric: 0.8546, vali loss: 0.35717529147863386, vali metric: 0.85497\")"
            ]
          },
          "metadata": {}
        },
        {
          "output_type": "display_data",
          "data": {
            "text/plain": [
              "<IPython.core.display.Javascript object>"
            ],
            "application/javascript": [
              "writeLog(\"--------------------\")"
            ]
          },
          "metadata": {}
        },
        {
          "output_type": "display_data",
          "data": {
            "text/plain": [
              "<IPython.core.display.Javascript object>"
            ],
            "application/javascript": [
              "writeLog(\"start epoch 14\")"
            ]
          },
          "metadata": {}
        },
        {
          "output_type": "display_data",
          "data": {
            "text/plain": [
              "<IPython.core.display.Javascript object>"
            ],
            "application/javascript": [
              "writeLog(\"start training step\")"
            ]
          },
          "metadata": {}
        },
        {
          "output_type": "display_data",
          "data": {
            "text/plain": [
              "<IPython.core.display.Javascript object>"
            ],
            "application/javascript": [
              "addData(14,0.35093308717012406,0.8564)"
            ]
          },
          "metadata": {}
        },
        {
          "output_type": "display_data",
          "data": {
            "text/plain": [
              "<IPython.core.display.Javascript object>"
            ],
            "application/javascript": [
              "writeLog(\"-------\")"
            ]
          },
          "metadata": {}
        },
        {
          "output_type": "display_data",
          "data": {
            "text/plain": [
              "<IPython.core.display.Javascript object>"
            ],
            "application/javascript": [
              "writeLog(\"start validation step\")"
            ]
          },
          "metadata": {}
        },
        {
          "output_type": "display_data",
          "data": {
            "text/plain": [
              "<IPython.core.display.Javascript object>"
            ],
            "application/javascript": [
              "writeLog(\"Current LR: 0.001, Delta Vali Loss: 0.007235959768295275)"
            ]
          },
          "metadata": {}
        },
        {
          "output_type": "display_data",
          "data": {
            "text/plain": [
              "<IPython.core.display.Javascript object>"
            ],
            "application/javascript": [
              "writeLog(\"Best validation loss: 0.3499393317103386\")"
            ]
          },
          "metadata": {}
        },
        {
          "output_type": "display_data",
          "data": {
            "text/plain": [
              "<IPython.core.display.Javascript object>"
            ],
            "application/javascript": [
              "writeLog(\"saving best model for epoch: 14\")"
            ]
          },
          "metadata": {}
        },
        {
          "output_type": "display_data",
          "data": {
            "text/plain": [
              "<IPython.core.display.Javascript object>"
            ],
            "application/javascript": [
              "writeLog(\"epoch: 14, time(s): 2.9349205493927, train loss: 0.35093308717012406, train metric: 0.8564, vali loss: 0.3499393317103386, vali metric: 0.85725\")"
            ]
          },
          "metadata": {}
        },
        {
          "output_type": "display_data",
          "data": {
            "text/plain": [
              "<IPython.core.display.Javascript object>"
            ],
            "application/javascript": [
              "writeLog(\"--------------------\")"
            ]
          },
          "metadata": {}
        },
        {
          "output_type": "display_data",
          "data": {
            "text/plain": [
              "<IPython.core.display.Javascript object>"
            ],
            "application/javascript": [
              "writeLog(\"start epoch 15\")"
            ]
          },
          "metadata": {}
        },
        {
          "output_type": "display_data",
          "data": {
            "text/plain": [
              "<IPython.core.display.Javascript object>"
            ],
            "application/javascript": [
              "writeLog(\"start training step\")"
            ]
          },
          "metadata": {}
        },
        {
          "output_type": "display_data",
          "data": {
            "text/plain": [
              "<IPython.core.display.Javascript object>"
            ],
            "application/javascript": [
              "addData(15,0.3522618374228477,0.85598)"
            ]
          },
          "metadata": {}
        },
        {
          "output_type": "display_data",
          "data": {
            "text/plain": [
              "<IPython.core.display.Javascript object>"
            ],
            "application/javascript": [
              "writeLog(\"-------\")"
            ]
          },
          "metadata": {}
        },
        {
          "output_type": "display_data",
          "data": {
            "text/plain": [
              "<IPython.core.display.Javascript object>"
            ],
            "application/javascript": [
              "writeLog(\"start validation step\")"
            ]
          },
          "metadata": {}
        },
        {
          "output_type": "display_data",
          "data": {
            "text/plain": [
              "<IPython.core.display.Javascript object>"
            ],
            "application/javascript": [
              "writeLog(\"Current LR: 0.001, Delta Vali Loss: -0.007833837866783155)"
            ]
          },
          "metadata": {}
        },
        {
          "output_type": "display_data",
          "data": {
            "text/plain": [
              "<IPython.core.display.Javascript object>"
            ],
            "application/javascript": [
              "writeLog(\"epoch: 15, time(s): 3.100698471069336, train loss: 0.3522618374228477, train metric: 0.85598, vali loss: 0.35777316957712174, vali metric: 0.85506\")"
            ]
          },
          "metadata": {}
        },
        {
          "output_type": "display_data",
          "data": {
            "text/plain": [
              "<IPython.core.display.Javascript object>"
            ],
            "application/javascript": [
              "writeLog(\"--------------------\")"
            ]
          },
          "metadata": {}
        },
        {
          "output_type": "display_data",
          "data": {
            "text/plain": [
              "<IPython.core.display.Javascript object>"
            ],
            "application/javascript": [
              "writeLog(\"start epoch 16\")"
            ]
          },
          "metadata": {}
        },
        {
          "output_type": "display_data",
          "data": {
            "text/plain": [
              "<IPython.core.display.Javascript object>"
            ],
            "application/javascript": [
              "writeLog(\"start training step\")"
            ]
          },
          "metadata": {}
        },
        {
          "output_type": "error",
          "ename": "KeyboardInterrupt",
          "evalue": "ignored",
          "traceback": [
            "\u001b[0;31m---------------------------------------------------------------------------\u001b[0m",
            "\u001b[0;31mKeyboardInterrupt\u001b[0m                         Traceback (most recent call last)",
            "\u001b[0;32m<ipython-input-12-9649569cdc7d>\u001b[0m in \u001b[0;36m<module>\u001b[0;34m\u001b[0m\n\u001b[1;32m     40\u001b[0m \u001b[0;34m\u001b[0m\u001b[0m\n\u001b[1;32m     41\u001b[0m     \u001b[0mdisplay\u001b[0m\u001b[0;34m(\u001b[0m\u001b[0mJavascript\u001b[0m\u001b[0;34m(\u001b[0m\u001b[0;34m'writeLog(\"start training step\")'\u001b[0m\u001b[0;34m)\u001b[0m\u001b[0;34m)\u001b[0m\u001b[0;34m\u001b[0m\u001b[0;34m\u001b[0m\u001b[0m\n\u001b[0;32m---> 42\u001b[0;31m     \u001b[0;32mfor\u001b[0m \u001b[0mxb\u001b[0m\u001b[0;34m,\u001b[0m \u001b[0myb\u001b[0m \u001b[0;32min\u001b[0m \u001b[0mtrain\u001b[0m\u001b[0;34m[\u001b[0m\u001b[0;34m\"lo\"\u001b[0m\u001b[0;34m]\u001b[0m\u001b[0;34m:\u001b[0m\u001b[0;34m\u001b[0m\u001b[0;34m\u001b[0m\u001b[0m\n\u001b[0m\u001b[1;32m     43\u001b[0m         \u001b[0mcounter\u001b[0m \u001b[0;34m+=\u001b[0m \u001b[0;36m1\u001b[0m\u001b[0;34m\u001b[0m\u001b[0;34m\u001b[0m\u001b[0m\n\u001b[1;32m     44\u001b[0m         \u001b[0mxb\u001b[0m\u001b[0;34m=\u001b[0m\u001b[0mxb\u001b[0m\u001b[0;34m.\u001b[0m\u001b[0mto\u001b[0m\u001b[0;34m(\u001b[0m\u001b[0mdevice\u001b[0m\u001b[0;34m)\u001b[0m \u001b[0;31m#copio il mini batch di dati sulla CPU/GPU\u001b[0m\u001b[0;34m\u001b[0m\u001b[0;34m\u001b[0m\u001b[0m\n",
            "\u001b[0;32m/usr/local/lib/python3.7/dist-packages/torch/utils/data/dataloader.py\u001b[0m in \u001b[0;36m__next__\u001b[0;34m(self)\u001b[0m\n\u001b[1;32m    679\u001b[0m                 \u001b[0;31m# TODO(https://github.com/pytorch/pytorch/issues/76750)\u001b[0m\u001b[0;34m\u001b[0m\u001b[0;34m\u001b[0m\u001b[0;34m\u001b[0m\u001b[0m\n\u001b[1;32m    680\u001b[0m                 \u001b[0mself\u001b[0m\u001b[0;34m.\u001b[0m\u001b[0m_reset\u001b[0m\u001b[0;34m(\u001b[0m\u001b[0;34m)\u001b[0m  \u001b[0;31m# type: ignore[call-arg]\u001b[0m\u001b[0;34m\u001b[0m\u001b[0;34m\u001b[0m\u001b[0m\n\u001b[0;32m--> 681\u001b[0;31m             \u001b[0mdata\u001b[0m \u001b[0;34m=\u001b[0m \u001b[0mself\u001b[0m\u001b[0;34m.\u001b[0m\u001b[0m_next_data\u001b[0m\u001b[0;34m(\u001b[0m\u001b[0;34m)\u001b[0m\u001b[0;34m\u001b[0m\u001b[0;34m\u001b[0m\u001b[0m\n\u001b[0m\u001b[1;32m    682\u001b[0m             \u001b[0mself\u001b[0m\u001b[0;34m.\u001b[0m\u001b[0m_num_yielded\u001b[0m \u001b[0;34m+=\u001b[0m \u001b[0;36m1\u001b[0m\u001b[0;34m\u001b[0m\u001b[0;34m\u001b[0m\u001b[0m\n\u001b[1;32m    683\u001b[0m             \u001b[0;32mif\u001b[0m \u001b[0mself\u001b[0m\u001b[0;34m.\u001b[0m\u001b[0m_dataset_kind\u001b[0m \u001b[0;34m==\u001b[0m \u001b[0m_DatasetKind\u001b[0m\u001b[0;34m.\u001b[0m\u001b[0mIterable\u001b[0m \u001b[0;32mand\u001b[0m\u001b[0;31m \u001b[0m\u001b[0;31m\\\u001b[0m\u001b[0;34m\u001b[0m\u001b[0;34m\u001b[0m\u001b[0m\n",
            "\u001b[0;32m/usr/local/lib/python3.7/dist-packages/torch/utils/data/dataloader.py\u001b[0m in \u001b[0;36m_next_data\u001b[0;34m(self)\u001b[0m\n\u001b[1;32m    719\u001b[0m     \u001b[0;32mdef\u001b[0m \u001b[0m_next_data\u001b[0m\u001b[0;34m(\u001b[0m\u001b[0mself\u001b[0m\u001b[0;34m)\u001b[0m\u001b[0;34m:\u001b[0m\u001b[0;34m\u001b[0m\u001b[0;34m\u001b[0m\u001b[0m\n\u001b[1;32m    720\u001b[0m         \u001b[0mindex\u001b[0m \u001b[0;34m=\u001b[0m \u001b[0mself\u001b[0m\u001b[0;34m.\u001b[0m\u001b[0m_next_index\u001b[0m\u001b[0;34m(\u001b[0m\u001b[0;34m)\u001b[0m  \u001b[0;31m# may raise StopIteration\u001b[0m\u001b[0;34m\u001b[0m\u001b[0;34m\u001b[0m\u001b[0m\n\u001b[0;32m--> 721\u001b[0;31m         \u001b[0mdata\u001b[0m \u001b[0;34m=\u001b[0m \u001b[0mself\u001b[0m\u001b[0;34m.\u001b[0m\u001b[0m_dataset_fetcher\u001b[0m\u001b[0;34m.\u001b[0m\u001b[0mfetch\u001b[0m\u001b[0;34m(\u001b[0m\u001b[0mindex\u001b[0m\u001b[0;34m)\u001b[0m  \u001b[0;31m# may raise StopIteration\u001b[0m\u001b[0;34m\u001b[0m\u001b[0;34m\u001b[0m\u001b[0m\n\u001b[0m\u001b[1;32m    722\u001b[0m         \u001b[0;32mif\u001b[0m \u001b[0mself\u001b[0m\u001b[0;34m.\u001b[0m\u001b[0m_pin_memory\u001b[0m\u001b[0;34m:\u001b[0m\u001b[0;34m\u001b[0m\u001b[0;34m\u001b[0m\u001b[0m\n\u001b[1;32m    723\u001b[0m             \u001b[0mdata\u001b[0m \u001b[0;34m=\u001b[0m \u001b[0m_utils\u001b[0m\u001b[0;34m.\u001b[0m\u001b[0mpin_memory\u001b[0m\u001b[0;34m.\u001b[0m\u001b[0mpin_memory\u001b[0m\u001b[0;34m(\u001b[0m\u001b[0mdata\u001b[0m\u001b[0;34m,\u001b[0m \u001b[0mself\u001b[0m\u001b[0;34m.\u001b[0m\u001b[0m_pin_memory_device\u001b[0m\u001b[0;34m)\u001b[0m\u001b[0;34m\u001b[0m\u001b[0;34m\u001b[0m\u001b[0m\n",
            "\u001b[0;32m/usr/local/lib/python3.7/dist-packages/torch/utils/data/_utils/fetch.py\u001b[0m in \u001b[0;36mfetch\u001b[0;34m(self, possibly_batched_index)\u001b[0m\n\u001b[1;32m     47\u001b[0m     \u001b[0;32mdef\u001b[0m \u001b[0mfetch\u001b[0m\u001b[0;34m(\u001b[0m\u001b[0mself\u001b[0m\u001b[0;34m,\u001b[0m \u001b[0mpossibly_batched_index\u001b[0m\u001b[0;34m)\u001b[0m\u001b[0;34m:\u001b[0m\u001b[0;34m\u001b[0m\u001b[0;34m\u001b[0m\u001b[0m\n\u001b[1;32m     48\u001b[0m         \u001b[0;32mif\u001b[0m \u001b[0mself\u001b[0m\u001b[0;34m.\u001b[0m\u001b[0mauto_collation\u001b[0m\u001b[0;34m:\u001b[0m\u001b[0;34m\u001b[0m\u001b[0;34m\u001b[0m\u001b[0m\n\u001b[0;32m---> 49\u001b[0;31m             \u001b[0mdata\u001b[0m \u001b[0;34m=\u001b[0m \u001b[0;34m[\u001b[0m\u001b[0mself\u001b[0m\u001b[0;34m.\u001b[0m\u001b[0mdataset\u001b[0m\u001b[0;34m[\u001b[0m\u001b[0midx\u001b[0m\u001b[0;34m]\u001b[0m \u001b[0;32mfor\u001b[0m \u001b[0midx\u001b[0m \u001b[0;32min\u001b[0m \u001b[0mpossibly_batched_index\u001b[0m\u001b[0;34m]\u001b[0m\u001b[0;34m\u001b[0m\u001b[0;34m\u001b[0m\u001b[0m\n\u001b[0m\u001b[1;32m     50\u001b[0m         \u001b[0;32melse\u001b[0m\u001b[0;34m:\u001b[0m\u001b[0;34m\u001b[0m\u001b[0;34m\u001b[0m\u001b[0m\n\u001b[1;32m     51\u001b[0m             \u001b[0mdata\u001b[0m \u001b[0;34m=\u001b[0m \u001b[0mself\u001b[0m\u001b[0;34m.\u001b[0m\u001b[0mdataset\u001b[0m\u001b[0;34m[\u001b[0m\u001b[0mpossibly_batched_index\u001b[0m\u001b[0;34m]\u001b[0m\u001b[0;34m\u001b[0m\u001b[0;34m\u001b[0m\u001b[0m\n",
            "\u001b[0;32m/usr/local/lib/python3.7/dist-packages/torch/utils/data/_utils/fetch.py\u001b[0m in \u001b[0;36m<listcomp>\u001b[0;34m(.0)\u001b[0m\n\u001b[1;32m     47\u001b[0m     \u001b[0;32mdef\u001b[0m \u001b[0mfetch\u001b[0m\u001b[0;34m(\u001b[0m\u001b[0mself\u001b[0m\u001b[0;34m,\u001b[0m \u001b[0mpossibly_batched_index\u001b[0m\u001b[0;34m)\u001b[0m\u001b[0;34m:\u001b[0m\u001b[0;34m\u001b[0m\u001b[0;34m\u001b[0m\u001b[0m\n\u001b[1;32m     48\u001b[0m         \u001b[0;32mif\u001b[0m \u001b[0mself\u001b[0m\u001b[0;34m.\u001b[0m\u001b[0mauto_collation\u001b[0m\u001b[0;34m:\u001b[0m\u001b[0;34m\u001b[0m\u001b[0;34m\u001b[0m\u001b[0m\n\u001b[0;32m---> 49\u001b[0;31m             \u001b[0mdata\u001b[0m \u001b[0;34m=\u001b[0m \u001b[0;34m[\u001b[0m\u001b[0mself\u001b[0m\u001b[0;34m.\u001b[0m\u001b[0mdataset\u001b[0m\u001b[0;34m[\u001b[0m\u001b[0midx\u001b[0m\u001b[0;34m]\u001b[0m \u001b[0;32mfor\u001b[0m \u001b[0midx\u001b[0m \u001b[0;32min\u001b[0m \u001b[0mpossibly_batched_index\u001b[0m\u001b[0;34m]\u001b[0m\u001b[0;34m\u001b[0m\u001b[0;34m\u001b[0m\u001b[0m\n\u001b[0m\u001b[1;32m     50\u001b[0m         \u001b[0;32melse\u001b[0m\u001b[0;34m:\u001b[0m\u001b[0;34m\u001b[0m\u001b[0;34m\u001b[0m\u001b[0m\n\u001b[1;32m     51\u001b[0m             \u001b[0mdata\u001b[0m \u001b[0;34m=\u001b[0m \u001b[0mself\u001b[0m\u001b[0;34m.\u001b[0m\u001b[0mdataset\u001b[0m\u001b[0;34m[\u001b[0m\u001b[0mpossibly_batched_index\u001b[0m\u001b[0;34m]\u001b[0m\u001b[0;34m\u001b[0m\u001b[0;34m\u001b[0m\u001b[0m\n",
            "\u001b[0;32m/usr/local/lib/python3.7/dist-packages/torch/utils/data/dataset.py\u001b[0m in \u001b[0;36m__getitem__\u001b[0;34m(self, index)\u001b[0m\n\u001b[1;32m    186\u001b[0m \u001b[0;34m\u001b[0m\u001b[0m\n\u001b[1;32m    187\u001b[0m     \u001b[0;32mdef\u001b[0m \u001b[0m__getitem__\u001b[0m\u001b[0;34m(\u001b[0m\u001b[0mself\u001b[0m\u001b[0;34m,\u001b[0m \u001b[0mindex\u001b[0m\u001b[0;34m)\u001b[0m\u001b[0;34m:\u001b[0m\u001b[0;34m\u001b[0m\u001b[0;34m\u001b[0m\u001b[0m\n\u001b[0;32m--> 188\u001b[0;31m         \u001b[0;32mreturn\u001b[0m \u001b[0mtuple\u001b[0m\u001b[0;34m(\u001b[0m\u001b[0mtensor\u001b[0m\u001b[0;34m[\u001b[0m\u001b[0mindex\u001b[0m\u001b[0;34m]\u001b[0m \u001b[0;32mfor\u001b[0m \u001b[0mtensor\u001b[0m \u001b[0;32min\u001b[0m \u001b[0mself\u001b[0m\u001b[0;34m.\u001b[0m\u001b[0mtensors\u001b[0m\u001b[0;34m)\u001b[0m\u001b[0;34m\u001b[0m\u001b[0;34m\u001b[0m\u001b[0m\n\u001b[0m\u001b[1;32m    189\u001b[0m \u001b[0;34m\u001b[0m\u001b[0m\n\u001b[1;32m    190\u001b[0m     \u001b[0;32mdef\u001b[0m \u001b[0m__len__\u001b[0m\u001b[0;34m(\u001b[0m\u001b[0mself\u001b[0m\u001b[0;34m)\u001b[0m\u001b[0;34m:\u001b[0m\u001b[0;34m\u001b[0m\u001b[0;34m\u001b[0m\u001b[0m\n",
            "\u001b[0;32m/usr/local/lib/python3.7/dist-packages/torch/utils/data/dataset.py\u001b[0m in \u001b[0;36m<genexpr>\u001b[0;34m(.0)\u001b[0m\n\u001b[1;32m    186\u001b[0m \u001b[0;34m\u001b[0m\u001b[0m\n\u001b[1;32m    187\u001b[0m     \u001b[0;32mdef\u001b[0m \u001b[0m__getitem__\u001b[0m\u001b[0;34m(\u001b[0m\u001b[0mself\u001b[0m\u001b[0;34m,\u001b[0m \u001b[0mindex\u001b[0m\u001b[0;34m)\u001b[0m\u001b[0;34m:\u001b[0m\u001b[0;34m\u001b[0m\u001b[0;34m\u001b[0m\u001b[0m\n\u001b[0;32m--> 188\u001b[0;31m         \u001b[0;32mreturn\u001b[0m \u001b[0mtuple\u001b[0m\u001b[0;34m(\u001b[0m\u001b[0mtensor\u001b[0m\u001b[0;34m[\u001b[0m\u001b[0mindex\u001b[0m\u001b[0;34m]\u001b[0m \u001b[0;32mfor\u001b[0m \u001b[0mtensor\u001b[0m \u001b[0;32min\u001b[0m \u001b[0mself\u001b[0m\u001b[0;34m.\u001b[0m\u001b[0mtensors\u001b[0m\u001b[0;34m)\u001b[0m\u001b[0;34m\u001b[0m\u001b[0;34m\u001b[0m\u001b[0m\n\u001b[0m\u001b[1;32m    189\u001b[0m \u001b[0;34m\u001b[0m\u001b[0m\n\u001b[1;32m    190\u001b[0m     \u001b[0;32mdef\u001b[0m \u001b[0m__len__\u001b[0m\u001b[0;34m(\u001b[0m\u001b[0mself\u001b[0m\u001b[0;34m)\u001b[0m\u001b[0;34m:\u001b[0m\u001b[0;34m\u001b[0m\u001b[0;34m\u001b[0m\u001b[0m\n",
            "\u001b[0;31mKeyboardInterrupt\u001b[0m: "
          ]
        }
      ]
    },
    {
      "cell_type": "code",
      "source": [
        "from matplotlib.markers import MarkerStyle\n",
        "# grafico accuracy vs epoca\n",
        "plt.figure(figsize=(10, 7))\n",
        "plt.plot(range(1,len(hist_loss)+1),hist_loss, color='green', linestyle='-', label='train loss')\n",
        "plt.plot(range(1,len(hist_metric)+1),hist_metric, color='red', linestyle='-', label='train metric')\n",
        "plt.xlabel('Epochs')\n",
        "plt.ylabel('')\n",
        "plt.legend()\n",
        "ax = plt.gca()\n",
        "ax.set_xlim([0,len(hist_metric)+1])\n",
        "plt.grid()\n",
        "#ax.set_ylim([0, 1])\n",
        "plt.show()\n",
        "\n",
        "#AUC\n",
        "cnn.eval()\n",
        "vali_auc=0\n",
        "counter = 0\n",
        "count=0\n",
        "with torch.no_grad(): \n",
        "  for xb, yb in test[\"lo\"]:\n",
        "    counter += 1\n",
        "    xb=xb.to(device)\n",
        "    yb=yb.to(device)\n",
        "\n",
        "    pred = cnn(xb) #predizione del modello\n",
        "    vAUC=auroc(pred, yb)\n",
        "    vali_auc += vAUC.item() \n",
        "\n",
        "    \n",
        "\n",
        "vali_auc/=counter\n",
        "print(vali_auc)\n",
        "print(count/100000)\n",
        "\n",
        "#Test del modello e check delle probabilita \n",
        "\n",
        "feat, label = next(iter(test[\"lo\"]))\n",
        "\n",
        "feat=feat.to(device)\n",
        "label=label.to(device)\n",
        "\n",
        "out = cnn(feat)\n",
        "\n",
        "print(out.shape)\n",
        "\n",
        "out=out.to(\"cpu\")\n",
        "out=out.detach()\n",
        "out=out.numpy()\n",
        "#print(out)\n",
        "risultati=[]\n",
        "for i in range(100):\n",
        "  if out[i,0]>out[i,1]:\n",
        "    risultati.append(0)\n",
        "  else:\n",
        "    risultati.append(1)\n",
        "risultati=np.array(risultati)\n",
        "labels=label.cpu().detach().numpy()\n",
        "\n",
        "check=0\n",
        "len2=100\n",
        "for i in range(len2):\n",
        "\n",
        "  if risultati[i]==labels[i]:\n",
        "    #print(\"ok\")\n",
        "    check+=1\n",
        "  else:\n",
        "    check+=0\n",
        "    #print(\"err\")\n",
        "\n",
        "print(check/len2)\n",
        "print(\"------\")\n",
        "print(type(out))\n",
        "\n",
        "for i in range(len(out)):\n",
        " e1=(np.e**out[i,0]/(np.e**out[i,0]+np.e**out[i,1]))\n",
        " e2=(np.e**out[i,1]/(np.e**out[i,0]+np.e**out[i,1]))\n",
        " etot=e1+e2\n",
        " if etot < 0.999 or etot > 1.001:\n",
        "   print(\"etot non è 1\")\n",
        "   print(e1,e2,etot)#etot deve essere 1\n",
        "print(\"-------------\")\n",
        "\n"
      ],
      "metadata": {
        "id": "Xj3_KDxaI4XO",
        "colab": {
          "base_uri": "https://localhost:8080/",
          "height": 563
        },
        "outputId": "ad960766-8fd2-4bc0-95a0-5f295217f6dd"
      },
      "execution_count": null,
      "outputs": [
        {
          "output_type": "display_data",
          "data": {
            "text/plain": [
              "<Figure size 720x504 with 1 Axes>"
            ],
            "image/png": "[encoded data removed]"
          },
          "metadata": {
            "needs_background": "light"
          }
        },
        {
          "output_type": "stream",
          "name": "stdout",
          "text": [
            "0.9303167819976806\n",
            "0.0\n",
            "torch.Size([1000, 2])\n",
            "0.91\n",
            "------\n",
            "<class 'numpy.ndarray'>\n",
            "-------------\n"
          ]
        }
      ]
    },
    {
      "cell_type": "code",
      "source": [
        "#Calcolo confusion matrix e BR=10-->EF\n",
        "from sklearn.metrics import confusion_matrix\n",
        "\n",
        "soglia=0.7\n",
        "cnn.eval()\n",
        "\n",
        "\n",
        "\n",
        "lista=[0.53,0.54,0.55,0.56]\n",
        "for soglia in lista:\n",
        "  TN=0\n",
        "  FP=0\n",
        "  FN=0\n",
        "  TP=0\n",
        "  counter = 0\n",
        "  with torch.no_grad(): \n",
        "    for xb, yb in test[\"lo\"]:\n",
        "      PREDIZIONI=[]\n",
        "      counter += 1\n",
        "      xb=xb.to(device)\n",
        "      out = cnn(xb)\n",
        "      out=out.to(\"cpu\")\n",
        "      out=out.detach()\n",
        "      out=out.numpy()\n",
        "      for i in range(len(out)):\n",
        "        e1=(np.e**out[i,0]/(np.e**out[i,0]+np.e**out[i,1]))\n",
        "        e2=(np.e**out[i,1]/(np.e**out[i,0]+np.e**out[i,1]))\n",
        "        if(e2>=soglia):\n",
        "          PREDIZIONI.append(1)\n",
        "          counter+=1\n",
        "        else:\n",
        "          PREDIZIONI.append(0)\n",
        "          counter-=1\n",
        "\n",
        "  \n",
        "      yb=yb.detach()\n",
        "      yb=yb.numpy()  \n",
        "      \n",
        "      predict=np.array(PREDIZIONI)\n",
        "\n",
        "      tn, fp, fn, tp = confusion_matrix(yb, predict).ravel()    \n",
        "      TN+=tn\n",
        "      FP+=fp\n",
        "      FN+=fn\n",
        "      TP+=tp\n",
        "  BE=FP/(TN+FP)\n",
        "  SE=TP/(TP+FN)\n",
        "  print(\"-------------\")\n",
        "  print(\"soglia:\",soglia)\n",
        "  print(TP,FP)\n",
        "  print(FN,TN)\n",
        "  print(\"BR:\",BE**-1)\n",
        "  print(\"SE:\",SE)\n",
        "print(\"-------------\")\n",
        "\n",
        "\n",
        "\n"
      ],
      "metadata": {
        "id": "I2uVqihaDuEZ",
        "colab": {
          "base_uri": "https://localhost:8080/"
        },
        "outputId": "cf03cd0a-4830-4c34-b2a2-be2ffda9ad2b"
      },
      "execution_count": null,
      "outputs": [
        {
          "output_type": "stream",
          "name": "stdout",
          "text": [
            "-------------\n",
            "soglia: 0.53\n",
            "41288 5469\n",
            "8712 44531\n",
            "BR: 9.1424392027793\n",
            "SE: 0.82576\n",
            "-------------\n",
            "soglia: 0.54\n",
            "41008 5273\n",
            "8992 44727\n",
            "BR: 9.482268158543524\n",
            "SE: 0.82016\n",
            "-------------\n",
            "soglia: 0.55\n",
            "40721 5103\n",
            "9279 44897\n",
            "BR: 9.798157946306095\n",
            "SE: 0.81442\n",
            "-------------\n",
            "soglia: 0.56\n",
            "40439 4942\n",
            "9561 45058\n",
            "BR: 10.117361392148927\n",
            "SE: 0.80878\n",
            "-------------\n"
          ]
        }
      ]
    },
    {
      "cell_type": "code",
      "source": [],
      "metadata": {
        "id": "XDZYGZStl42c"
      },
      "execution_count": null,
      "outputs": []
    }
  ]
}